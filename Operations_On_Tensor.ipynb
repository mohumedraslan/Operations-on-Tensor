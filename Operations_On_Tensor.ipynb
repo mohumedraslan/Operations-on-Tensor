{
  "nbformat": 4,
  "nbformat_minor": 0,
  "metadata": {
    "colab": {
      "provenance": [],
      "authorship_tag": "ABX9TyMgWpnIIDDVSFQRUgsZnLNu",
      "include_colab_link": true
    },
    "kernelspec": {
      "name": "python3",
      "display_name": "Python 3"
    },
    "language_info": {
      "name": "python"
    }
  },
  "cells": [
    {
      "cell_type": "markdown",
      "metadata": {
        "id": "view-in-github",
        "colab_type": "text"
      },
      "source": [
        "<a href=\"https://colab.research.google.com/github/mohumedraslan/Operations-on-Tensor/blob/main/Operations_On_Tensor.ipynb\" target=\"_parent\"><img src=\"https://colab.research.google.com/assets/colab-badge.svg\" alt=\"Open In Colab\"/></a>"
      ]
    },
    {
      "cell_type": "code",
      "execution_count": 1,
      "metadata": {
        "colab": {
          "base_uri": "https://localhost:8080/"
        },
        "id": "QBz0Ut3tHn3U",
        "outputId": "06e60973-9f1a-410c-8995-15b5a285d726"
      },
      "outputs": [
        {
          "output_type": "stream",
          "name": "stdout",
          "text": [
            "2.18.0\n"
          ]
        }
      ],
      "source": [
        "import tensorflow as tf\n",
        "print(tf.__version__)\n"
      ]
    },
    {
      "cell_type": "code",
      "source": [
        "first_const = tf.constant([[1,2],[3,4]], dtype=tf.float32)\n",
        "\n",
        "print(first_const)\n",
        "print(first_const.numpy())\n",
        "print(first_const.shape)\n",
        "print(first_const.device)\n",
        "print(first_const.dtype)"
      ],
      "metadata": {
        "id": "JqHVDh_8I4bm",
        "colab": {
          "base_uri": "https://localhost:8080/"
        },
        "outputId": "ae600099-61ad-4d5d-a07e-6889ca3f4538"
      },
      "execution_count": 2,
      "outputs": [
        {
          "output_type": "stream",
          "name": "stdout",
          "text": [
            "tf.Tensor(\n",
            "[[1. 2.]\n",
            " [3. 4.]], shape=(2, 2), dtype=float32)\n",
            "[[1. 2.]\n",
            " [3. 4.]]\n",
            "(2, 2)\n",
            "/job:localhost/replica:0/task:0/device:CPU:0\n",
            "<dtype: 'float32'>\n"
          ]
        }
      ]
    },
    {
      "cell_type": "code",
      "source": [
        "zeros_like_c = tf.zeros_like(first_const) # View generated data.\n",
        "zeros_like_c.numpy()"
      ],
      "metadata": {
        "id": "p_ONWpjYH5yP",
        "colab": {
          "base_uri": "https://localhost:8080/"
        },
        "outputId": "6bb516c5-4217-42bf-9464-30293b8dcea8"
      },
      "execution_count": 3,
      "outputs": [
        {
          "output_type": "execute_result",
          "data": {
            "text/plain": [
              "array([[0., 0.],\n",
              "       [0., 0.]], dtype=float32)"
            ]
          },
          "metadata": {},
          "execution_count": 3
        }
      ]
    },
    {
      "cell_type": "code",
      "source": [
        "filled_tensor = tf.fill([3,4],7)\n",
        "print(filled_tensor)"
      ],
      "metadata": {
        "colab": {
          "base_uri": "https://localhost:8080/"
        },
        "id": "4cBuzeSrvmFO",
        "outputId": "c18e53f0-d8ab-4601-c0ef-362ebaf4fdbb"
      },
      "execution_count": 4,
      "outputs": [
        {
          "output_type": "stream",
          "name": "stdout",
          "text": [
            "tf.Tensor(\n",
            "[[7 7 7 7]\n",
            " [7 7 7 7]\n",
            " [7 7 7 7]], shape=(3, 4), dtype=int32)\n"
          ]
        }
      ]
    },
    {
      "cell_type": "code",
      "source": [
        "random_const =tf.random.normal([5,5],mean=0.5,stddev=1,dtype=tf.float32)\n",
        "random_const\n"
      ],
      "metadata": {
        "colab": {
          "base_uri": "https://localhost:8080/"
        },
        "id": "5GBOqatgww3W",
        "outputId": "bb45ffc3-63fb-4359-b9c3-3bcbba3a9ca9"
      },
      "execution_count": 5,
      "outputs": [
        {
          "output_type": "execute_result",
          "data": {
            "text/plain": [
              "<tf.Tensor: shape=(5, 5), dtype=float32, numpy=\n",
              "array([[ 0.9759669 , -1.4985414 ,  0.2442458 , -2.520329  ,  0.65542066],\n",
              "       [-0.39594632,  0.8260763 ,  0.26375186,  1.2311223 ,  0.0173575 ],\n",
              "       [-2.1159368 , -0.37704504,  0.18794984,  0.5277171 ,  3.6716967 ],\n",
              "       [ 0.3612119 ,  1.1320012 , -1.5874805 ,  0.776104  , -1.0226879 ],\n",
              "       [-0.18579209,  1.0840354 ,  1.1024119 , -0.07119125,  0.19031   ]],\n",
              "      dtype=float32)>"
            ]
          },
          "metadata": {},
          "execution_count": 5
        }
      ]
    },
    {
      "cell_type": "code",
      "source": [
        "list_1 = [1,2,3,4,5,6]\n",
        "list_t = tf.convert_to_tensor(list_1,dtype=tf.float32)\n",
        "list_t"
      ],
      "metadata": {
        "colab": {
          "base_uri": "https://localhost:8080/"
        },
        "id": "S0vUEkp0yJBA",
        "outputId": "68ea5a98-0c0c-4bfd-9f90-c6740da439d5"
      },
      "execution_count": 6,
      "outputs": [
        {
          "output_type": "execute_result",
          "data": {
            "text/plain": [
              "<tf.Tensor: shape=(6,), dtype=float32, numpy=array([1., 2., 3., 4., 5., 6.], dtype=float32)>"
            ]
          },
          "metadata": {},
          "execution_count": 6
        }
      ]
    },
    {
      "cell_type": "code",
      "source": [
        "var_1 = tf.Variable(tf.ones([2,3]))\n",
        "var_1"
      ],
      "metadata": {
        "colab": {
          "base_uri": "https://localhost:8080/"
        },
        "id": "yfnWnGy2yhDa",
        "outputId": "fd542deb-444d-4707-b7b9-5c83abb1689a"
      },
      "execution_count": 7,
      "outputs": [
        {
          "output_type": "execute_result",
          "data": {
            "text/plain": [
              "<tf.Variable 'Variable:0' shape=(2, 3) dtype=float32, numpy=\n",
              "array([[1., 1., 1.],\n",
              "       [1., 1., 1.]], dtype=float32)>"
            ]
          },
          "metadata": {},
          "execution_count": 7
        }
      ]
    },
    {
      "cell_type": "code",
      "source": [
        "print(\"Value of var_1:\", var_1.numpy())\n",
        "\n",
        "# Assign a new value to the variable\n",
        "var_value_1 = [[1, 2, 3], [4, 5, 6]]\n",
        "var_1.assign(var_value_1)\n",
        "\n",
        "# Print the new value\n",
        "print(\"New value for var_1:\", var_1.numpy())"
      ],
      "metadata": {
        "colab": {
          "base_uri": "https://localhost:8080/"
        },
        "id": "kDOTnKY8zXhE",
        "outputId": "91612c45-b28e-463a-cff0-f044e8675922"
      },
      "execution_count": 8,
      "outputs": [
        {
          "output_type": "stream",
          "name": "stdout",
          "text": [
            "Value of var_1: [[1. 1. 1.]\n",
            " [1. 1. 1.]]\n",
            "New value for var_1: [[1. 2. 3.]\n",
            " [4. 5. 6.]]\n"
          ]
        }
      ]
    },
    {
      "cell_type": "code",
      "source": [
        "var_1.assign_add(tf.ones([2,3]))\n",
        "var_1"
      ],
      "metadata": {
        "colab": {
          "base_uri": "https://localhost:8080/"
        },
        "id": "lvrVRcdP2yQ4",
        "outputId": "b7817fd1-ec9d-451b-c82e-3caabe235af1"
      },
      "execution_count": 9,
      "outputs": [
        {
          "output_type": "execute_result",
          "data": {
            "text/plain": [
              "<tf.Variable 'Variable:0' shape=(2, 3) dtype=float32, numpy=\n",
              "array([[2., 3., 4.],\n",
              "       [5., 6., 7.]], dtype=float32)>"
            ]
          },
          "metadata": {},
          "execution_count": 9
        }
      ]
    },
    {
      "cell_type": "code",
      "source": [
        "# Create a 4D tensor representing 4 images of size 100x100 with 3 color channels\n",
        "tensor_h = tf.random.normal([4, 100, 100, 3])\n",
        "\n",
        "# Extract the first image\n",
        "first_image = tensor_h[0, :, :, :]\n",
        "print(\"First image shape:\", first_image.shape)\n",
        "\n",
        "# Extract every second image\n",
        "every_second_image = tensor_h[::2, ...]\n",
        "print(\"Every second image shape:\", every_second_image.shape)\n",
        "\n",
        "# Slice data from the last element\n",
        "last_element_slice = tensor_h[:-1]\n",
        "print(\"Last element slice shape:\", last_element_slice.shape)\n",
        "\n",
        "# Indexing: Get the pixel at position [20, 40] in the second channel of the first image\n",
        "pixel_value = tensor_h[0][19][39][1]\n",
        "print(\"Pixel value at [20, 40] in the second channel of the first image:\", pixel_value)\n",
        "\n",
        "# Extract specific images using tf.gather\n",
        "indices = [0, 1, 3]\n",
        "gathered_images = tf.gather(tensor_h, indices=indices, axis=0)\n",
        "print(\"Gathered images shape:\", gathered_images.shape)\n",
        "print(gathered_images)\n",
        "# Extract specific pixels using tf.gather_nd\n",
        "indices_nd = [[0, 1, 1, 0], [1, 2, 2, 0]]\n",
        "gathered_pixels = tf.gather_nd(tensor_h, indices=indices_nd)\n",
        "print(\"Gathered pixels:\", gathered_pixels)"
      ],
      "metadata": {
        "colab": {
          "base_uri": "https://localhost:8080/"
        },
        "id": "EZKEG0QO3OKB",
        "outputId": "daeab5b2-2cc3-4070-a2ed-6569e5dbc28b"
      },
      "execution_count": 10,
      "outputs": [
        {
          "output_type": "stream",
          "name": "stdout",
          "text": [
            "First image shape: (100, 100, 3)\n",
            "Every second image shape: (2, 100, 100, 3)\n",
            "Last element slice shape: (3, 100, 100, 3)\n",
            "Pixel value at [20, 40] in the second channel of the first image: tf.Tensor(0.952702, shape=(), dtype=float32)\n",
            "Gathered images shape: (3, 100, 100, 3)\n",
            "tf.Tensor(\n",
            "[[[[ 1.1074756e-01 -5.3539753e-01  9.5360279e-01]\n",
            "   [-8.5091203e-01  3.1157818e-01  1.9795393e+00]\n",
            "   [-9.6536380e-01 -9.9498802e-01 -1.0608808e+00]\n",
            "   ...\n",
            "   [-2.7937093e-01  8.0652155e-02  5.7369366e-02]\n",
            "   [-7.9319942e-01 -3.7579921e-01 -2.4687603e-02]\n",
            "   [ 3.8767326e-01 -7.9481333e-01 -4.1359967e-01]]\n",
            "\n",
            "  [[ 1.1111941e+00  1.2076136e+00  8.5639697e-01]\n",
            "   [ 4.6293521e-01  1.3895762e+00 -1.5939863e+00]\n",
            "   [-1.4186718e-01  3.8107908e-01 -2.5388095e-01]\n",
            "   ...\n",
            "   [-2.2113810e+00  1.1662598e+00  5.1263064e-01]\n",
            "   [ 4.8655429e-01  1.2095093e+00  1.5362972e-01]\n",
            "   [-6.2531716e-01  5.8834648e-01 -1.8336650e+00]]\n",
            "\n",
            "  [[ 5.4757249e-01  8.1101054e-01 -4.7356081e-01]\n",
            "   [ 2.9309797e-01 -2.7180332e-01 -4.8951837e-01]\n",
            "   [-4.6586981e-01  3.8991880e-01  1.1483706e+00]\n",
            "   ...\n",
            "   [-7.7302241e-01 -5.3265762e-01  3.3734882e-01]\n",
            "   [-1.5585947e-01 -2.1145761e+00  8.3107668e-01]\n",
            "   [ 1.4400411e-01 -4.2451087e-01 -1.1451330e-01]]\n",
            "\n",
            "  ...\n",
            "\n",
            "  [[ 3.1103954e-01 -1.0027565e+00  5.8817393e-01]\n",
            "   [-1.0205977e+00  2.5202319e-01 -5.3476268e-01]\n",
            "   [ 2.3063876e-01  6.8578696e-01 -3.4849420e-01]\n",
            "   ...\n",
            "   [-2.5139210e-01 -2.2094066e-01  2.6210797e-01]\n",
            "   [-6.1280411e-01 -2.5509031e+00  2.4086051e+00]\n",
            "   [ 1.2141926e+00 -2.6894242e-01 -9.8129988e-01]]\n",
            "\n",
            "  [[-1.2313739e-01 -4.6482526e-02 -7.2966850e-01]\n",
            "   [-8.0398273e-01  6.3024324e-01 -5.4264373e-01]\n",
            "   [ 1.8614072e+00 -3.5443899e-01  3.0324706e-01]\n",
            "   ...\n",
            "   [-1.3627032e+00 -1.1875792e+00 -1.2636017e+00]\n",
            "   [ 2.0398061e+00  6.7561525e-01  1.4545116e+00]\n",
            "   [-5.5745178e-01 -7.0485854e-01  1.8678670e+00]]\n",
            "\n",
            "  [[ 9.3442810e-01 -1.3494110e+00  7.2998792e-01]\n",
            "   [ 8.8069397e-01  1.9924680e+00 -2.1416770e-01]\n",
            "   [ 1.1658546e-01 -1.1436102e+00  1.1027969e+00]\n",
            "   ...\n",
            "   [ 1.7478418e-02  1.2987788e+00 -8.6622566e-01]\n",
            "   [-8.5420990e-01  9.2594165e-01 -4.3556350e-04]\n",
            "   [ 3.4909073e-01  6.9639283e-01 -4.9279666e-01]]]\n",
            "\n",
            "\n",
            " [[[-9.4331396e-01  6.3527513e-01  8.5636759e-01]\n",
            "   [ 7.6674634e-01  9.2145920e-01 -2.4322298e-01]\n",
            "   [-7.5018771e-02  5.9553891e-01 -4.0880364e-01]\n",
            "   ...\n",
            "   [ 3.3542818e-01 -1.0191195e+00 -3.3506126e+00]\n",
            "   [ 8.1428099e-01  5.8033341e-01 -7.6670915e-02]\n",
            "   [ 6.3289005e-01  1.6206617e+00 -8.0940163e-01]]\n",
            "\n",
            "  [[-9.5580339e-01 -4.4697848e-01 -7.9437578e-01]\n",
            "   [-9.8816091e-01  4.4676697e-01 -1.0278361e+00]\n",
            "   [-4.9127662e-01  3.6597171e-01 -7.6913542e-01]\n",
            "   ...\n",
            "   [ 7.3609374e-02 -6.2194312e-01  1.3062186e+00]\n",
            "   [ 4.2811695e-02  2.2020444e-01  4.2953059e-01]\n",
            "   [-2.0953435e-01  8.8684773e-01  3.8290414e-01]]\n",
            "\n",
            "  [[-2.3669254e-02  1.4273532e-01  7.0608610e-01]\n",
            "   [ 6.4790167e-02  1.2412655e+00  5.4000527e-01]\n",
            "   [ 1.1879244e+00 -2.9364684e-01 -5.4637331e-01]\n",
            "   ...\n",
            "   [ 8.3918786e-01  3.3866727e-01 -7.3888338e-01]\n",
            "   [-5.2553004e-01  6.4467031e-01  8.2410139e-01]\n",
            "   [ 7.8692538e-01  1.5896776e+00 -7.4399251e-01]]\n",
            "\n",
            "  ...\n",
            "\n",
            "  [[-1.9704263e+00 -6.4097756e-01 -6.8517482e-01]\n",
            "   [-1.4794126e+00 -1.9127985e+00  2.8297150e-01]\n",
            "   [-2.4997067e+00 -2.4804543e-01 -1.4244559e-01]\n",
            "   ...\n",
            "   [ 1.2329341e+00 -2.7131864e-01  9.3301493e-01]\n",
            "   [ 1.3127313e+00  8.1340975e-01  1.1488994e+00]\n",
            "   [-1.1239632e+00  7.7729553e-01  9.7515082e-01]]\n",
            "\n",
            "  [[ 2.2610402e-01  2.5932884e-01 -3.4504738e-01]\n",
            "   [-3.0034861e-01 -6.6848207e-01 -2.5503436e-01]\n",
            "   [-7.3081128e-02 -7.9879351e-02  1.9759764e-01]\n",
            "   ...\n",
            "   [ 5.9244764e-01 -5.6067050e-01  1.5508550e-01]\n",
            "   [ 7.2197104e-01 -7.6604652e-01  1.1486333e-01]\n",
            "   [-9.8386550e-01 -1.1009300e+00 -4.3102330e-01]]\n",
            "\n",
            "  [[-6.1843723e-01 -5.4342788e-01  3.9686501e-02]\n",
            "   [ 2.8548583e-01 -3.4262308e-01 -1.2067428e-01]\n",
            "   [-7.5409430e-01  1.8501194e+00  8.7698501e-01]\n",
            "   ...\n",
            "   [-2.0345566e+00 -9.7610360e-01 -7.8258961e-02]\n",
            "   [ 8.0376685e-01 -1.6809921e+00 -1.2510117e+00]\n",
            "   [-1.6399878e-01  2.7832180e-01 -4.0726820e-01]]]\n",
            "\n",
            "\n",
            " [[[ 3.6558580e-01 -2.5780943e-01 -1.0728141e-01]\n",
            "   [ 7.7339768e-01  9.8406190e-01  6.9370645e-01]\n",
            "   [ 6.6945684e-01 -5.2253956e-01  4.5301363e-01]\n",
            "   ...\n",
            "   [-2.7826944e-01  2.5915282e-02  7.2201139e-01]\n",
            "   [ 1.4631157e+00 -1.0768449e+00  1.3359373e+00]\n",
            "   [-1.1332649e+00  1.1399086e+00 -3.3473858e-01]]\n",
            "\n",
            "  [[-1.2435340e+00 -1.3168560e-01  1.2304077e+00]\n",
            "   [ 1.8487090e-01 -4.0797427e-01  1.0936173e+00]\n",
            "   [ 1.7684708e+00 -4.6251607e-01 -2.2005339e+00]\n",
            "   ...\n",
            "   [-7.6002610e-01 -1.7310106e+00 -7.9011045e-02]\n",
            "   [ 1.9484857e+00 -6.6861653e-01 -1.1830159e+00]\n",
            "   [ 3.7436119e-01 -3.0292413e-01  9.4498211e-01]]\n",
            "\n",
            "  [[ 2.4762847e-01  4.1643676e-01 -1.5467580e-01]\n",
            "   [ 1.0828370e-01  9.8715872e-01 -5.1877874e-01]\n",
            "   [ 2.3520757e-01 -8.1206930e-01 -1.4049301e+00]\n",
            "   ...\n",
            "   [ 6.1960781e-01 -4.7311327e-01 -2.3347159e-01]\n",
            "   [-3.9388970e-01  2.6546776e+00 -2.7239570e-01]\n",
            "   [ 9.0103500e-02 -9.4559360e-01  7.6467222e-01]]\n",
            "\n",
            "  ...\n",
            "\n",
            "  [[ 1.5076631e+00 -3.6120942e-01 -3.4144655e-01]\n",
            "   [ 9.2641151e-01 -1.1626190e+00  3.2459208e-01]\n",
            "   [ 1.0515009e+00 -1.2898930e+00  6.9813240e-01]\n",
            "   ...\n",
            "   [-1.0790794e+00 -1.4395823e+00  4.4003406e-01]\n",
            "   [-6.8090469e-01  5.6846625e-01  1.7623460e-02]\n",
            "   [ 7.0557851e-01 -4.4986969e-01 -1.2968124e-01]]\n",
            "\n",
            "  [[ 4.9880866e-02 -9.5010889e-01  1.0502967e+00]\n",
            "   [ 8.5519624e-01  1.2442273e+00 -1.5960549e+00]\n",
            "   [ 2.7009223e+00 -7.8810436e-01  1.8387816e+00]\n",
            "   ...\n",
            "   [-3.3943510e-01  3.4296679e-01  1.8992659e+00]\n",
            "   [ 5.8754945e-01 -1.4034050e+00 -2.8656176e-01]\n",
            "   [-1.1610544e+00 -1.1703755e+00  1.7821946e+00]]\n",
            "\n",
            "  [[-9.0322696e-02  2.3431337e+00  9.7405666e-01]\n",
            "   [ 1.2776074e+00 -1.8736018e+00  5.9635514e-01]\n",
            "   [ 5.2460968e-01 -1.6147199e+00  2.5297269e-01]\n",
            "   ...\n",
            "   [ 7.2727896e-02  1.5652164e+00 -1.1555711e+00]\n",
            "   [ 2.1778189e-02 -9.5045966e-01  1.3111922e+00]\n",
            "   [ 1.2329966e+00 -1.1427203e+00 -2.6082543e-01]]]], shape=(3, 100, 100, 3), dtype=float32)\n",
            "Gathered pixels: tf.Tensor([0.4629352 1.1879244], shape=(2,), dtype=float32)\n"
          ]
        }
      ]
    },
    {
      "cell_type": "code",
      "source": [
        "# Create a constant tensor\n",
        "const_d_1 = tf.constant([[1, 2, 3, 4]], shape=[2, 2], dtype=tf.float32)\n",
        "\n",
        "# Display tensor dimensions\n",
        "print(\"Shape using .shape:\", const_d_1.shape)\n",
        "print(\"Shape using .get_shape():\", const_d_1.get_shape())\n",
        "print(\"Shape using tf.shape():\", tf.shape(const_d_1).numpy())\n",
        "\n",
        "# Reshape the tensor\n",
        "reshape_1 = tf.constant([[1, 2, 3], [4, 5, 6]])\n",
        "reshaped_tensor = tf.reshape(reshape_1, (3, 2))\n",
        "print(\"Reshaped tensor:\", reshaped_tensor.numpy())\n",
        "\n",
        "# Expand dimensions\n",
        "expand_sample_1 = tf.random.normal([100, 100, 3], seed=1)\n",
        "print(\"Original data size:\", expand_sample_1.shape)\n",
        "expanded_tensor_axis0 = tf.expand_dims(expand_sample_1, axis=0)\n",
        "print(\"Expanded tensor (axis=0):\", expanded_tensor_axis0.shape)\n",
        "expanded_tensor_axis1 = tf.expand_dims(expand_sample_1, axis=1)\n",
        "print(\"Expanded tensor (axis=1):\", expanded_tensor_axis1.shape)\n",
        "expanded_tensor_axis_neg1 = tf.expand_dims(expand_sample_1, axis=-1)\n",
        "print(\"Expanded tensor (axis=-1):\", expanded_tensor_axis_neg1.shape)\n",
        "\n",
        "# Squeeze dimensions\n",
        "orig_sample_1 = tf.random.normal([1, 100, 100, 3])\n",
        "print(\"Original data size:\", orig_sample_1.shape)\n",
        "squeezed_sample_1 = tf.squeeze(orig_sample_1)\n",
        "print(\"Squeezed data size:\", squeezed_sample_1.shape)\n",
        "\n",
        "# Transpose the tensor\n",
        "trans_sample_1 = tf.constant([1, 2, 3, 4, 5, 6], shape=[2, 3])\n",
        "print(\"Original data size:\", trans_sample_1.shape)\n",
        "transposed_sample_1 = tf.transpose(trans_sample_1)\n",
        "print(\"Transposed data size:\", transposed_sample_1.shape)\n",
        "\n",
        "# Broadcast the tensor\n",
        "broadcast_sample_1 = tf.constant([1, 2, 3, 4, 5, 6])\n",
        "print(\"Original data:\", broadcast_sample_1.numpy())\n",
        "broadcasted_sample_1 = tf.broadcast_to(broadcast_sample_1, shape=[4, 6])\n",
        "print(\"Broadcasted data:\", broadcasted_sample_1.numpy())"
      ],
      "metadata": {
        "colab": {
          "base_uri": "https://localhost:8080/"
        },
        "id": "0PjnUW3NFh7w",
        "outputId": "111396be-dd6a-4d45-a4f6-cf2d6bec2ac8"
      },
      "execution_count": 11,
      "outputs": [
        {
          "output_type": "stream",
          "name": "stdout",
          "text": [
            "Shape using .shape: (2, 2)\n",
            "Shape using .get_shape(): (2, 2)\n",
            "Shape using tf.shape(): [2 2]\n",
            "Reshaped tensor: [[1 2]\n",
            " [3 4]\n",
            " [5 6]]\n",
            "Original data size: (100, 100, 3)\n",
            "Expanded tensor (axis=0): (1, 100, 100, 3)\n",
            "Expanded tensor (axis=1): (100, 1, 100, 3)\n",
            "Expanded tensor (axis=-1): (100, 100, 3, 1)\n",
            "Original data size: (1, 100, 100, 3)\n",
            "Squeezed data size: (100, 100, 3)\n",
            "Original data size: (2, 3)\n",
            "Transposed data size: (3, 2)\n",
            "Original data: [1 2 3 4 5 6]\n",
            "Broadcasted data: [[1 2 3 4 5 6]\n",
            " [1 2 3 4 5 6]\n",
            " [1 2 3 4 5 6]\n",
            " [1 2 3 4 5 6]]\n"
          ]
        }
      ]
    },
    {
      "cell_type": "code",
      "source": [
        "import tensorflow as tf\n",
        "\n",
        "# Arithmetic operations\n",
        "a = tf.constant([[3, 5], [4, 8]])\n",
        "b = tf.constant([[1, 6], [2, 9]])\n",
        "print(\"Addition:\", tf.add(a, b).numpy())\n",
        "print(\"Matrix multiplication:\", tf.matmul(a, b).numpy())\n",
        "\n",
        "# Tensor statistics\n",
        "argmax_sample_1 = tf.constant([[1, 3, 2], [2, 5, 8], [7, 5, 9]])\n",
        "print(\"Input tensor:\", argmax_sample_1.numpy())\n",
        "max_sample_1 = tf.argmax(argmax_sample_1, axis=0)\n",
        "max_sample_2 = tf.argmax(argmax_sample_1, axis=1)\n",
        "print(\"Locate the maximum value by column:\", max_sample_1.numpy())\n",
        "print(\"Locate the maximum value by row:\", max_sample_2.numpy())\n",
        "\n",
        "# Reduce operations\n",
        "reduce_sample_1 = tf.constant([1, 2, 3, 4, 5, 6], shape=[2, 3])\n",
        "print(\"Original data:\", reduce_sample_1.numpy())\n",
        "print(\"Sum of all elements:\", tf.reduce_sum(reduce_sample_1, axis=None).numpy())\n",
        "print(\"Sum of each column:\", tf.reduce_sum(reduce_sample_1, axis=0).numpy())\n",
        "print(\"Sum of each row:\", tf.reduce_sum(reduce_sample_1, axis=1).numpy())"
      ],
      "metadata": {
        "colab": {
          "base_uri": "https://localhost:8080/"
        },
        "id": "DTm7xfKHGAPn",
        "outputId": "26740be1-534c-49d7-c04f-a29db4bab37c"
      },
      "execution_count": 12,
      "outputs": [
        {
          "output_type": "stream",
          "name": "stdout",
          "text": [
            "Addition: [[ 4 11]\n",
            " [ 6 17]]\n",
            "Matrix multiplication: [[13 63]\n",
            " [20 96]]\n",
            "Input tensor: [[1 3 2]\n",
            " [2 5 8]\n",
            " [7 5 9]]\n",
            "Locate the maximum value by column: [2 1 2]\n",
            "Locate the maximum value by row: [1 2 2]\n",
            "Original data: [[1 2 3]\n",
            " [4 5 6]]\n",
            "Sum of all elements: 21\n",
            "Sum of each column: [5 7 9]\n",
            "Sum of each row: [ 6 15]\n"
          ]
        }
      ]
    },
    {
      "cell_type": "code",
      "source": [
        "import tensorflow as tf\n",
        "import numpy as np\n",
        "\n",
        "# Tensor concatenation\n",
        "concat_sample_1 = tf.random.normal([4, 100, 100, 3])\n",
        "concat_sample_2 = tf.random.normal([40, 100, 100, 3])\n",
        "print(\"Original data size:\", concat_sample_1.shape, concat_sample_2.shape)\n",
        "concated_sample_1 = tf.concat([concat_sample_1, concat_sample_2], axis=0)\n",
        "print(\"Concatenated data size:\", concated_sample_1.shape)\n",
        "\n",
        "# Tensor stacking\n",
        "stack_sample_1 = tf.random.normal([100, 100, 3])\n",
        "stack_sample_2 = tf.random.normal([100, 100, 3])\n",
        "print(\"Original data size:\", stack_sample_1.shape, stack_sample_2.shape)\n",
        "stacked_sample_1 = tf.stack([stack_sample_1, stack_sample_2], axis=0)\n",
        "print(\"Stacked data size:\", stacked_sample_1.shape)\n",
        "\n",
        "# Tensor splitting\n",
        "split_sample_1 = tf.random.normal([10, 100, 100, 3])\n",
        "print(\"Original data size:\", split_sample_1.shape)\n",
        "splited_sample_1 = tf.split(split_sample_1, num_or_size_splits=2, axis=0)\n",
        "print(\"If num_or_size_splits is 5, the size of the split data is:\", np.shape(splited_sample_1))\n",
        "splited_sample_2 = tf.split(split_sample_1, num_or_size_splits=[3, 5, 2], axis=0)\n",
        "print(\"If num_or_size_splits is [3,5,2], the sizes of the split data are:\", np.shape(splited_sample_2[0]), np.shape(splited_sample_2[1]), np.shape(splited_sample_2[2]))"
      ],
      "metadata": {
        "colab": {
          "base_uri": "https://localhost:8080/"
        },
        "id": "Wv_DTR3NGA0H",
        "outputId": "90da2875-7709-4894-d7a4-29e76a661d0f"
      },
      "execution_count": 13,
      "outputs": [
        {
          "output_type": "stream",
          "name": "stdout",
          "text": [
            "Original data size: (4, 100, 100, 3) (40, 100, 100, 3)\n",
            "Concatenated data size: (44, 100, 100, 3)\n",
            "Original data size: (100, 100, 3) (100, 100, 3)\n",
            "Stacked data size: (2, 100, 100, 3)\n",
            "Original data size: (10, 100, 100, 3)\n",
            "If num_or_size_splits is 5, the size of the split data is: (2, 5, 100, 100, 3)\n",
            "If num_or_size_splits is [3,5,2], the sizes of the split data are: (3, 100, 100, 3) (5, 100, 100, 3) (2, 100, 100, 3)\n"
          ]
        }
      ]
    },
    {
      "cell_type": "code",
      "source": [
        "import tensorflow as tf\n",
        "\n",
        "# Tensor sorting\n",
        "sort_sample_1 = tf.random.shuffle(tf.range(10))\n",
        "print(\"Input tensor:\", sort_sample_1.numpy())\n",
        "sorted_sample_1 = tf.sort(sort_sample_1, direction=\"ASCENDING\")\n",
        "print(\"Tensor sorted in ascending order:\", sorted_sample_1.numpy())\n",
        "sorted_sample_2 = tf.argsort(sort_sample_1, direction=\"ASCENDING\")\n",
        "print(\"Index of elements in ascending order:\", sorted_sample_2.numpy())\n",
        "\n",
        "# Top-k values\n",
        "values, index = tf.nn.top_k(sort_sample_1, 5)\n",
        "print(\"Input tensor:\", sort_sample_1.numpy())\n",
        "print(\"k largest values in ascending order:\", values.numpy())\n",
        "print(\"Indices of the k largest values in ascending order:\", index.numpy())"
      ],
      "metadata": {
        "colab": {
          "base_uri": "https://localhost:8080/"
        },
        "id": "4sADieSbGDrH",
        "outputId": "1e4df2b3-3080-4bd8-c0ab-5327c5a66c5b"
      },
      "execution_count": 14,
      "outputs": [
        {
          "output_type": "stream",
          "name": "stdout",
          "text": [
            "Input tensor: [0 2 3 6 9 4 1 5 7 8]\n",
            "Tensor sorted in ascending order: [0 1 2 3 4 5 6 7 8 9]\n",
            "Index of elements in ascending order: [0 6 1 2 5 7 3 8 9 4]\n",
            "Input tensor: [0 2 3 6 9 4 1 5 7 8]\n",
            "k largest values in ascending order: [9 8 7 6 5]\n",
            "Indices of the k largest values in ascending order: [4 9 8 3 7]\n"
          ]
        }
      ]
    },
    {
      "cell_type": "code",
      "source": [
        "import tensorflow as tf\n",
        "\n",
        "# Eager execution mode\n",
        "x = tf.ones([2, 2], dtype=tf.dtypes.float32)\n",
        "y = tf.constant([[1, 2], [3, 4]], dtype=tf.dtypes.float32)\n",
        "z = tf.matmul(x, y)\n",
        "print(\"Eager execution result:\", z.numpy())\n",
        "\n",
        "# Graph mode (using TensorFlow 1.x syntax)\n",
        "import tensorflow.compat.v1 as tf\n",
        "tf.disable_eager_execution()\n",
        "a = tf.ones([2, 2], dtype=tf.dtypes.float32)\n",
        "b = tf.constant([[1, 2], [3, 4]], dtype=tf.dtypes.float32)\n",
        "c = tf.matmul(a, b)\n",
        "with tf.Session() as sess:\n",
        "    print(\"Graph mode result:\", sess.run(c))"
      ],
      "metadata": {
        "colab": {
          "base_uri": "https://localhost:8080/"
        },
        "id": "VMt2xcPJGFKH",
        "outputId": "63364f7b-d5e6-47b8-e0e5-bf8822600e15"
      },
      "execution_count": 15,
      "outputs": [
        {
          "output_type": "stream",
          "name": "stdout",
          "text": [
            "Eager execution result: [[4. 6.]\n",
            " [4. 6.]]\n",
            "Graph mode result: [[4. 6.]\n",
            " [4. 6.]]\n"
          ]
        }
      ]
    },
    {
      "cell_type": "code",
      "source": [
        "import tensorflow as tf\n",
        "import numpy as np\n",
        "\n",
        "# Autograph example\n",
        "@tf.function\n",
        "def simple_nn_layer(w, x, b):\n",
        "    tf.print(b)\n",
        "    result = tf.nn.relu(tf.matmul(w, x) + b)\n",
        "    tf.print(\"Result:\", result)\n",
        "    return result\n",
        "\n",
        "w = tf.random.uniform([3, 3])\n",
        "x = tf.random.uniform([3, 3])\n",
        "b = tf.constant(0.5, dtype=\"float32\")\n",
        "result = simple_nn_layer(w, x, b)"
      ],
      "metadata": {
        "id": "fyQd55vBGHWv"
      },
      "execution_count": 25,
      "outputs": []
    },
    {
      "cell_type": "code",
      "source": [],
      "metadata": {
        "id": "NTb_PKJaCm4d"
      },
      "execution_count": null,
      "outputs": []
    }
  ]
}